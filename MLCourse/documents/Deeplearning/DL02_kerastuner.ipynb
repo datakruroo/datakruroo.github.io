{
  "cells": [
    {
      "cell_type": "raw",
      "metadata": {},
      "source": [
        "---\n",
        "title: \"Hyperparameter Tuning using Keras Tuner\"\n",
        "---"
      ],
      "id": "4e90f70c"
    },
    {
      "cell_type": "markdown",
      "metadata": {},
      "source": [
        "บทเรียนนี้จะกล่าวถึงการปรับแต่งค่า hyperparameters ในโมเดลโครงข่ายประสาทเทียม (neural network models) ด้วย library keras-tuner ทั้งนี้ก่อนการดำเนินการใด ๆ ผู้วิเคราะห์จำเป็นต้องติดตั้งและเตรียมสภาพแวดล้อมการทำงานให้พร้อมก่อน เริ่มที่การติดตั้ง package ที่จำเป็นได้แก่ `tensorflow`, `keras` และ `keras-tuner` ดังนี้\n",
        "\n",
        "\n",
        "```{bash eval=F}\n",
        "pip install tensorflow\n",
        "pip install keras\n",
        "pip install keras-tuner\n",
        "```"
      ],
      "id": "d173dc59"
    }
  ],
  "metadata": {
    "kernelspec": {
      "name": "python3",
      "language": "python",
      "display_name": "Python 3 (ipykernel)"
    }
  },
  "nbformat": 4,
  "nbformat_minor": 5
}